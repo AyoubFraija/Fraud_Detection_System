{
 "cells": [
  {
   "cell_type": "code",
   "execution_count": 1,
   "id": "964d7738-4e60-42a5-8fa8-019c992d69a8",
   "metadata": {},
   "outputs": [],
   "source": [
    "import pandas as pd"
   ]
  },
  {
   "cell_type": "code",
   "execution_count": 2,
   "id": "127dcdb8-1ddb-4047-8a55-bca1ec74a529",
   "metadata": {},
   "outputs": [
    {
     "name": "stdout",
     "output_type": "stream",
     "text": [
      "   step      type    amount     nameOrig  oldbalanceOrg  newbalanceOrig  \\\n",
      "0     1   PAYMENT   9839.64  C1231006815       170136.0       160296.36   \n",
      "1     1   PAYMENT   1864.28  C1666544295        21249.0        19384.72   \n",
      "2     1  TRANSFER    181.00  C1305486145          181.0            0.00   \n",
      "3     1  CASH_OUT    181.00   C840083671          181.0            0.00   \n",
      "4     1   PAYMENT  11668.14  C2048537720        41554.0        29885.86   \n",
      "\n",
      "      nameDest  oldbalanceDest  newbalanceDest  isFraud  isFlaggedFraud  \n",
      "0  M1979787155             0.0             0.0        0               0  \n",
      "1  M2044282225             0.0             0.0        0               0  \n",
      "2   C553264065             0.0             0.0        1               0  \n",
      "3    C38997010         21182.0             0.0        1               0  \n",
      "4  M1230701703             0.0             0.0        0               0  \n"
     ]
    }
   ],
   "source": [
    "df = pd.read_csv('C:/Users/fraij/Documents/Projet PFA/PS_20174392719_1491204439457_log.csv')\n",
    "print(df.head())"
   ]
  },
  {
   "cell_type": "code",
   "execution_count": 3,
   "id": "274fa437-6fd2-448d-98a1-105eac86c3b8",
   "metadata": {},
   "outputs": [
    {
     "name": "stdout",
     "output_type": "stream",
     "text": [
      "   step      type    amount     nameOrig  oldbalanceOrg  newbalanceOrig  \\\n",
      "0     1   PAYMENT   9839.64  C1231006815       170136.0       160296.36   \n",
      "1     1   PAYMENT   1864.28  C1666544295        21249.0        19384.72   \n",
      "2     1  TRANSFER    181.00  C1305486145          181.0            0.00   \n",
      "3     1  CASH_OUT    181.00   C840083671          181.0            0.00   \n",
      "4     1   PAYMENT  11668.14  C2048537720        41554.0        29885.86   \n",
      "\n",
      "      nameDest  oldbalanceDest  newbalanceDest  isFraud  \n",
      "0  M1979787155             0.0             0.0        0  \n",
      "1  M2044282225             0.0             0.0        0  \n",
      "2   C553264065             0.0             0.0        1  \n",
      "3    C38997010         21182.0             0.0        1  \n",
      "4  M1230701703             0.0             0.0        0  \n"
     ]
    }
   ],
   "source": [
    "del df['isFlaggedFraud']\n",
    "print(df.head())\n"
   ]
  },
  {
   "cell_type": "code",
   "execution_count": 4,
   "id": "a496fb2f-cdcc-4266-a70c-433d7da5b4c0",
   "metadata": {},
   "outputs": [
    {
     "name": "stdout",
     "output_type": "stream",
     "text": [
      "(6362620, 10)\n"
     ]
    }
   ],
   "source": [
    "print(df.shape)"
   ]
  },
  {
   "cell_type": "code",
   "execution_count": 5,
   "id": "f192167c-951b-4ce0-8521-3f2718178c39",
   "metadata": {},
   "outputs": [
    {
     "data": {
      "text/html": [
       "<div>\n",
       "<style scoped>\n",
       "    .dataframe tbody tr th:only-of-type {\n",
       "        vertical-align: middle;\n",
       "    }\n",
       "\n",
       "    .dataframe tbody tr th {\n",
       "        vertical-align: top;\n",
       "    }\n",
       "\n",
       "    .dataframe thead th {\n",
       "        text-align: right;\n",
       "    }\n",
       "</style>\n",
       "<table border=\"1\" class=\"dataframe\">\n",
       "  <thead>\n",
       "    <tr style=\"text-align: right;\">\n",
       "      <th></th>\n",
       "      <th>step</th>\n",
       "      <th>amount</th>\n",
       "      <th>oldbalanceOrg</th>\n",
       "      <th>newbalanceOrig</th>\n",
       "      <th>oldbalanceDest</th>\n",
       "      <th>newbalanceDest</th>\n",
       "      <th>isFraud</th>\n",
       "    </tr>\n",
       "  </thead>\n",
       "  <tbody>\n",
       "    <tr>\n",
       "      <th>count</th>\n",
       "      <td>6.362620e+06</td>\n",
       "      <td>6.362620e+06</td>\n",
       "      <td>6.362620e+06</td>\n",
       "      <td>6.362620e+06</td>\n",
       "      <td>6.362620e+06</td>\n",
       "      <td>6.362620e+06</td>\n",
       "      <td>6.362620e+06</td>\n",
       "    </tr>\n",
       "    <tr>\n",
       "      <th>mean</th>\n",
       "      <td>2.433972e+02</td>\n",
       "      <td>1.798619e+05</td>\n",
       "      <td>8.338831e+05</td>\n",
       "      <td>8.551137e+05</td>\n",
       "      <td>1.100702e+06</td>\n",
       "      <td>1.224996e+06</td>\n",
       "      <td>1.290820e-03</td>\n",
       "    </tr>\n",
       "    <tr>\n",
       "      <th>std</th>\n",
       "      <td>1.423320e+02</td>\n",
       "      <td>6.038582e+05</td>\n",
       "      <td>2.888243e+06</td>\n",
       "      <td>2.924049e+06</td>\n",
       "      <td>3.399180e+06</td>\n",
       "      <td>3.674129e+06</td>\n",
       "      <td>3.590480e-02</td>\n",
       "    </tr>\n",
       "    <tr>\n",
       "      <th>min</th>\n",
       "      <td>1.000000e+00</td>\n",
       "      <td>0.000000e+00</td>\n",
       "      <td>0.000000e+00</td>\n",
       "      <td>0.000000e+00</td>\n",
       "      <td>0.000000e+00</td>\n",
       "      <td>0.000000e+00</td>\n",
       "      <td>0.000000e+00</td>\n",
       "    </tr>\n",
       "    <tr>\n",
       "      <th>25%</th>\n",
       "      <td>1.560000e+02</td>\n",
       "      <td>1.338957e+04</td>\n",
       "      <td>0.000000e+00</td>\n",
       "      <td>0.000000e+00</td>\n",
       "      <td>0.000000e+00</td>\n",
       "      <td>0.000000e+00</td>\n",
       "      <td>0.000000e+00</td>\n",
       "    </tr>\n",
       "    <tr>\n",
       "      <th>50%</th>\n",
       "      <td>2.390000e+02</td>\n",
       "      <td>7.487194e+04</td>\n",
       "      <td>1.420800e+04</td>\n",
       "      <td>0.000000e+00</td>\n",
       "      <td>1.327057e+05</td>\n",
       "      <td>2.146614e+05</td>\n",
       "      <td>0.000000e+00</td>\n",
       "    </tr>\n",
       "    <tr>\n",
       "      <th>75%</th>\n",
       "      <td>3.350000e+02</td>\n",
       "      <td>2.087215e+05</td>\n",
       "      <td>1.073152e+05</td>\n",
       "      <td>1.442584e+05</td>\n",
       "      <td>9.430367e+05</td>\n",
       "      <td>1.111909e+06</td>\n",
       "      <td>0.000000e+00</td>\n",
       "    </tr>\n",
       "    <tr>\n",
       "      <th>max</th>\n",
       "      <td>7.430000e+02</td>\n",
       "      <td>9.244552e+07</td>\n",
       "      <td>5.958504e+07</td>\n",
       "      <td>4.958504e+07</td>\n",
       "      <td>3.560159e+08</td>\n",
       "      <td>3.561793e+08</td>\n",
       "      <td>1.000000e+00</td>\n",
       "    </tr>\n",
       "  </tbody>\n",
       "</table>\n",
       "</div>"
      ],
      "text/plain": [
       "               step        amount  oldbalanceOrg  newbalanceOrig  \\\n",
       "count  6.362620e+06  6.362620e+06   6.362620e+06    6.362620e+06   \n",
       "mean   2.433972e+02  1.798619e+05   8.338831e+05    8.551137e+05   \n",
       "std    1.423320e+02  6.038582e+05   2.888243e+06    2.924049e+06   \n",
       "min    1.000000e+00  0.000000e+00   0.000000e+00    0.000000e+00   \n",
       "25%    1.560000e+02  1.338957e+04   0.000000e+00    0.000000e+00   \n",
       "50%    2.390000e+02  7.487194e+04   1.420800e+04    0.000000e+00   \n",
       "75%    3.350000e+02  2.087215e+05   1.073152e+05    1.442584e+05   \n",
       "max    7.430000e+02  9.244552e+07   5.958504e+07    4.958504e+07   \n",
       "\n",
       "       oldbalanceDest  newbalanceDest       isFraud  \n",
       "count    6.362620e+06    6.362620e+06  6.362620e+06  \n",
       "mean     1.100702e+06    1.224996e+06  1.290820e-03  \n",
       "std      3.399180e+06    3.674129e+06  3.590480e-02  \n",
       "min      0.000000e+00    0.000000e+00  0.000000e+00  \n",
       "25%      0.000000e+00    0.000000e+00  0.000000e+00  \n",
       "50%      1.327057e+05    2.146614e+05  0.000000e+00  \n",
       "75%      9.430367e+05    1.111909e+06  0.000000e+00  \n",
       "max      3.560159e+08    3.561793e+08  1.000000e+00  "
      ]
     },
     "execution_count": 5,
     "metadata": {},
     "output_type": "execute_result"
    }
   ],
   "source": [
    "df.describe()"
   ]
  },
  {
   "cell_type": "code",
   "execution_count": 6,
   "id": "5c6e9087-05fc-4142-ae20-2ad6cdd86cb5",
   "metadata": {},
   "outputs": [
    {
     "name": "stdout",
     "output_type": "stream",
     "text": [
      "Index(['type', 'nameOrig', 'nameDest'], dtype='object')\n"
     ]
    }
   ],
   "source": [
    "data = df.copy()\n",
    "obJList = data.select_dtypes(include=\"object\").columns\n",
    "print(obJList)"
   ]
  },
  {
   "cell_type": "code",
   "execution_count": 7,
   "id": "686b67fa-38a4-44c0-b1bc-6b848938e6e5",
   "metadata": {},
   "outputs": [
    {
     "data": {
      "text/html": [
       "<div>\n",
       "<style scoped>\n",
       "    .dataframe tbody tr th:only-of-type {\n",
       "        vertical-align: middle;\n",
       "    }\n",
       "\n",
       "    .dataframe tbody tr th {\n",
       "        vertical-align: top;\n",
       "    }\n",
       "\n",
       "    .dataframe thead th {\n",
       "        text-align: right;\n",
       "    }\n",
       "</style>\n",
       "<table border=\"1\" class=\"dataframe\">\n",
       "  <thead>\n",
       "    <tr style=\"text-align: right;\">\n",
       "      <th></th>\n",
       "      <th>step</th>\n",
       "      <th>type</th>\n",
       "      <th>amount</th>\n",
       "      <th>nameOrig</th>\n",
       "      <th>oldbalanceOrg</th>\n",
       "      <th>newbalanceOrig</th>\n",
       "      <th>nameDest</th>\n",
       "      <th>oldbalanceDest</th>\n",
       "      <th>newbalanceDest</th>\n",
       "      <th>isFraud</th>\n",
       "    </tr>\n",
       "  </thead>\n",
       "  <tbody>\n",
       "    <tr>\n",
       "      <th>0</th>\n",
       "      <td>1</td>\n",
       "      <td>3</td>\n",
       "      <td>9839.64</td>\n",
       "      <td>757869</td>\n",
       "      <td>170136.0</td>\n",
       "      <td>160296.36</td>\n",
       "      <td>1662094</td>\n",
       "      <td>0.0</td>\n",
       "      <td>0.0</td>\n",
       "      <td>0</td>\n",
       "    </tr>\n",
       "    <tr>\n",
       "      <th>1</th>\n",
       "      <td>1</td>\n",
       "      <td>3</td>\n",
       "      <td>1864.28</td>\n",
       "      <td>2188998</td>\n",
       "      <td>21249.0</td>\n",
       "      <td>19384.72</td>\n",
       "      <td>1733924</td>\n",
       "      <td>0.0</td>\n",
       "      <td>0.0</td>\n",
       "      <td>0</td>\n",
       "    </tr>\n",
       "    <tr>\n",
       "      <th>2</th>\n",
       "      <td>1</td>\n",
       "      <td>4</td>\n",
       "      <td>181.00</td>\n",
       "      <td>1002156</td>\n",
       "      <td>181.0</td>\n",
       "      <td>0.00</td>\n",
       "      <td>439685</td>\n",
       "      <td>0.0</td>\n",
       "      <td>0.0</td>\n",
       "      <td>1</td>\n",
       "    </tr>\n",
       "    <tr>\n",
       "      <th>3</th>\n",
       "      <td>1</td>\n",
       "      <td>1</td>\n",
       "      <td>181.00</td>\n",
       "      <td>5828262</td>\n",
       "      <td>181.0</td>\n",
       "      <td>0.00</td>\n",
       "      <td>391696</td>\n",
       "      <td>21182.0</td>\n",
       "      <td>0.0</td>\n",
       "      <td>1</td>\n",
       "    </tr>\n",
       "    <tr>\n",
       "      <th>4</th>\n",
       "      <td>1</td>\n",
       "      <td>3</td>\n",
       "      <td>11668.14</td>\n",
       "      <td>3445981</td>\n",
       "      <td>41554.0</td>\n",
       "      <td>29885.86</td>\n",
       "      <td>828919</td>\n",
       "      <td>0.0</td>\n",
       "      <td>0.0</td>\n",
       "      <td>0</td>\n",
       "    </tr>\n",
       "  </tbody>\n",
       "</table>\n",
       "</div>"
      ],
      "text/plain": [
       "   step  type    amount  nameOrig  oldbalanceOrg  newbalanceOrig  nameDest  \\\n",
       "0     1     3   9839.64    757869       170136.0       160296.36   1662094   \n",
       "1     1     3   1864.28   2188998        21249.0        19384.72   1733924   \n",
       "2     1     4    181.00   1002156          181.0            0.00    439685   \n",
       "3     1     1    181.00   5828262          181.0            0.00    391696   \n",
       "4     1     3  11668.14   3445981        41554.0        29885.86    828919   \n",
       "\n",
       "   oldbalanceDest  newbalanceDest  isFraud  \n",
       "0             0.0             0.0        0  \n",
       "1             0.0             0.0        0  \n",
       "2             0.0             0.0        1  \n",
       "3         21182.0             0.0        1  \n",
       "4             0.0             0.0        0  "
      ]
     },
     "execution_count": 7,
     "metadata": {},
     "output_type": "execute_result"
    }
   ],
   "source": [
    "# Label Encoding\n",
    "\n",
    "from sklearn.preprocessing import LabelEncoder\n",
    "\n",
    "label_encoder = LabelEncoder()\n",
    "\n",
    "for i in obJList : \n",
    "    data[i] = label_encoder.fit_transform(data[i].astype(str))\n",
    "\n",
    "data.head()"
   ]
  },
  {
   "cell_type": "code",
   "execution_count": 8,
   "id": "66cda1cd-0151-4f52-8ba7-a0a1f0828d24",
   "metadata": {},
   "outputs": [],
   "source": [
    "# PAYMENT = 3\n",
    "# TRANSFER = 4\n",
    "# CASH_OUT = 1\n",
    "# DEBIT = 2\n",
    "# CASH_IN = 5"
   ]
  },
  {
   "cell_type": "code",
   "execution_count": 9,
   "id": "c9ce53e1-58b9-4e5b-8887-02ec1ed41db8",
   "metadata": {},
   "outputs": [],
   "source": [
    "x = data.drop('isFraud', axis = 1 )\n",
    "y = data['isFraud']"
   ]
  },
  {
   "cell_type": "code",
   "execution_count": 10,
   "id": "e6ec612f-d2e8-46b1-a39a-a5e4b978f6b5",
   "metadata": {},
   "outputs": [
    {
     "data": {
      "text/html": [
       "<div>\n",
       "<style scoped>\n",
       "    .dataframe tbody tr th:only-of-type {\n",
       "        vertical-align: middle;\n",
       "    }\n",
       "\n",
       "    .dataframe tbody tr th {\n",
       "        vertical-align: top;\n",
       "    }\n",
       "\n",
       "    .dataframe thead th {\n",
       "        text-align: right;\n",
       "    }\n",
       "</style>\n",
       "<table border=\"1\" class=\"dataframe\">\n",
       "  <thead>\n",
       "    <tr style=\"text-align: right;\">\n",
       "      <th></th>\n",
       "      <th>step</th>\n",
       "      <th>type</th>\n",
       "      <th>amount</th>\n",
       "      <th>nameOrig</th>\n",
       "      <th>oldbalanceOrg</th>\n",
       "      <th>newbalanceOrig</th>\n",
       "      <th>nameDest</th>\n",
       "      <th>oldbalanceDest</th>\n",
       "      <th>newbalanceDest</th>\n",
       "    </tr>\n",
       "  </thead>\n",
       "  <tbody>\n",
       "    <tr>\n",
       "      <th>0</th>\n",
       "      <td>1</td>\n",
       "      <td>3</td>\n",
       "      <td>9839.64</td>\n",
       "      <td>757869</td>\n",
       "      <td>170136.0</td>\n",
       "      <td>160296.36</td>\n",
       "      <td>1662094</td>\n",
       "      <td>0.0</td>\n",
       "      <td>0.0</td>\n",
       "    </tr>\n",
       "    <tr>\n",
       "      <th>1</th>\n",
       "      <td>1</td>\n",
       "      <td>3</td>\n",
       "      <td>1864.28</td>\n",
       "      <td>2188998</td>\n",
       "      <td>21249.0</td>\n",
       "      <td>19384.72</td>\n",
       "      <td>1733924</td>\n",
       "      <td>0.0</td>\n",
       "      <td>0.0</td>\n",
       "    </tr>\n",
       "    <tr>\n",
       "      <th>2</th>\n",
       "      <td>1</td>\n",
       "      <td>4</td>\n",
       "      <td>181.00</td>\n",
       "      <td>1002156</td>\n",
       "      <td>181.0</td>\n",
       "      <td>0.00</td>\n",
       "      <td>439685</td>\n",
       "      <td>0.0</td>\n",
       "      <td>0.0</td>\n",
       "    </tr>\n",
       "    <tr>\n",
       "      <th>3</th>\n",
       "      <td>1</td>\n",
       "      <td>1</td>\n",
       "      <td>181.00</td>\n",
       "      <td>5828262</td>\n",
       "      <td>181.0</td>\n",
       "      <td>0.00</td>\n",
       "      <td>391696</td>\n",
       "      <td>21182.0</td>\n",
       "      <td>0.0</td>\n",
       "    </tr>\n",
       "    <tr>\n",
       "      <th>4</th>\n",
       "      <td>1</td>\n",
       "      <td>3</td>\n",
       "      <td>11668.14</td>\n",
       "      <td>3445981</td>\n",
       "      <td>41554.0</td>\n",
       "      <td>29885.86</td>\n",
       "      <td>828919</td>\n",
       "      <td>0.0</td>\n",
       "      <td>0.0</td>\n",
       "    </tr>\n",
       "  </tbody>\n",
       "</table>\n",
       "</div>"
      ],
      "text/plain": [
       "   step  type    amount  nameOrig  oldbalanceOrg  newbalanceOrig  nameDest  \\\n",
       "0     1     3   9839.64    757869       170136.0       160296.36   1662094   \n",
       "1     1     3   1864.28   2188998        21249.0        19384.72   1733924   \n",
       "2     1     4    181.00   1002156          181.0            0.00    439685   \n",
       "3     1     1    181.00   5828262          181.0            0.00    391696   \n",
       "4     1     3  11668.14   3445981        41554.0        29885.86    828919   \n",
       "\n",
       "   oldbalanceDest  newbalanceDest  \n",
       "0             0.0             0.0  \n",
       "1             0.0             0.0  \n",
       "2             0.0             0.0  \n",
       "3         21182.0             0.0  \n",
       "4             0.0             0.0  "
      ]
     },
     "execution_count": 10,
     "metadata": {},
     "output_type": "execute_result"
    }
   ],
   "source": [
    "x.head()"
   ]
  },
  {
   "cell_type": "code",
   "execution_count": 11,
   "id": "b78263ab-bd57-433c-b769-f4dfc1d5bde4",
   "metadata": {},
   "outputs": [
    {
     "data": {
      "text/plain": [
       "0    0\n",
       "1    0\n",
       "2    1\n",
       "3    1\n",
       "4    0\n",
       "Name: isFraud, dtype: int64"
      ]
     },
     "execution_count": 11,
     "metadata": {},
     "output_type": "execute_result"
    }
   ],
   "source": [
    "y.head()"
   ]
  },
  {
   "cell_type": "code",
   "execution_count": 12,
   "id": "a09c3af2-3896-422a-b9cb-590e8c589183",
   "metadata": {},
   "outputs": [
    {
     "name": "stdout",
     "output_type": "stream",
     "text": [
      "Series([], dtype: int64)\n"
     ]
    }
   ],
   "source": [
    "# Recherche des valeurs manquantes dans la datasets\n",
    "missing_values = data.isnull().sum()\n",
    "print(missing_values[missing_values > 0])"
   ]
  },
  {
   "cell_type": "code",
   "execution_count": 13,
   "id": "38177769-b7a1-4e56-b162-c8fbcb9c2927",
   "metadata": {},
   "outputs": [
    {
     "name": "stdout",
     "output_type": "stream",
     "text": [
      "(0, 10)\n"
     ]
    }
   ],
   "source": [
    "# Recherche des données dupliquées\n",
    "dup = data.duplicated()\n",
    "print(data[dup].shape)"
   ]
  },
  {
   "cell_type": "code",
   "execution_count": 14,
   "id": "1a285756-b279-4504-b3d1-f3beae5b8c62",
   "metadata": {},
   "outputs": [],
   "source": [
    "import numpy as np\n",
    "import matplotlib.pyplot as plt\n",
    "from sklearn.ensemble import ExtraTreesClassifier\n",
    "\n",
    "#Implementation du modèle\n",
    "extra_tree_forest =  ExtraTreesClassifier(n_estimators = 100,\n",
    "                                        criterion ='entropy', max_features = 'sqrt')\n",
    "# Entrainement du modèle\n",
    "extra_tree_forest.fit(x, y)\n",
    " \n",
    "# Extraction de l'importance des features\n",
    "feature_importance = extra_tree_forest.feature_importances_\n",
    "\n",
    "# Création d'un DataFrame pour visualiser les importances\n",
    "feature_importances = pd.DataFrame({'Feature': x.columns, 'Importance': feature_importance})\n",
    "feature_importances = feature_importances.sort_values(by='Importance', ascending=False)"
   ]
  },
  {
   "cell_type": "code",
   "execution_count": 15,
   "id": "9f05d352-40e3-4efc-a59d-1919324b5b32",
   "metadata": {},
   "outputs": [
    {
     "data": {
      "image/png": "[encoded data removed]",
      "text/plain": [
       "<Figure size 1600x480 with 1 Axes>"
      ]
     },
     "metadata": {},
     "output_type": "display_data"
    }
   ],
   "source": [
    "#Visualisation des resultats obtenus \n",
    "plt.figure().set_figwidth(16)\n",
    "plt.bar(feature_importances['Feature'],feature_importances['Importance'], color=\"green\")\n",
    "plt.xlabel('Features')\n",
    "plt.ylabel('Importance')\n",
    "plt.title(\"Comparaison de l'importance des différents features\")\n",
    "plt.show()"
   ]
  },
  {
   "cell_type": "code",
   "execution_count": 16,
   "id": "3382b18c-8179-44a2-a67e-7b1e164984e8",
   "metadata": {},
   "outputs": [
    {
     "data": {
      "text/plain": [
       "<Axes: >"
      ]
     },
     "execution_count": 16,
     "metadata": {},
     "output_type": "execute_result"
    },
    {
     "data": {
      "image/png": "[encoded data removed]",
      "text/plain": [
       "<Figure size 1000x600 with 2 Axes>"
      ]
     },
     "metadata": {},
     "output_type": "display_data"
    }
   ],
   "source": [
    "import seaborn as sns\n",
    "corr = data.corr()\n",
    "isFraud_corr = corr[['isFraud']].drop('isFraud')\n",
    "plt.figure(figsize=(10,6))\n",
    "sns.heatmap(isFraud_corr,annot=True,cmap='coolwarm')"
   ]
  },
  {
   "cell_type": "code",
   "execution_count": 17,
   "id": "a113a460-c544-4a28-a9b7-8ab6a8934143",
   "metadata": {},
   "outputs": [],
   "source": [
    "data = data[['oldbalanceOrg','amount','step','newbalanceDest','type','isFraud']]"
   ]
  },
  {
   "cell_type": "code",
   "execution_count": 18,
   "id": "c2212dd5-5b90-4516-827c-ea9cde940949",
   "metadata": {},
   "outputs": [],
   "source": [
    "# Filtrer les lignes où 'isFraud' est 1\n",
    "fraud_data = data.loc[df['isFraud'] == 1].reset_index(drop=True)\n",
    "# Filtrer les lignes où 'isFraud' est 0\n",
    "non_fraud_data = data.loc[data['isFraud'] == 0].reset_index(drop=True)"
   ]
  },
  {
   "cell_type": "code",
   "execution_count": 19,
   "id": "441c5c02-6b93-4a16-8d69-4c2e59fc2ea6",
   "metadata": {},
   "outputs": [
    {
     "name": "stdout",
     "output_type": "stream",
     "text": [
      "Index([     14,      37,      38,      62,      63,     241,     242,     243,\n",
      "           244,     245,\n",
      "       ...\n",
      "       6362606, 6362607, 6362612, 6362613, 6362614, 6362615, 6362616, 6362617,\n",
      "       6362618, 6362619],\n",
      "      dtype='int64', length=1112507)\n"
     ]
    }
   ],
   "source": [
    "# Définition d'une fonction qui detecte les outliers\n",
    "def detect_outliers(x):\n",
    "    q1,q3=np.percentile(x.values, [25,75])\n",
    "    lower_bound = (q1 - 1.5*(q3 - q1))\n",
    "    upper_bound = (q3 + 1.5*(q3 - q1))\n",
    "    outliers = x[(x < lower_bound) | (x > upper_bound)]\n",
    "    return outliers.index\n",
    "    \n",
    "out=detect_outliers(data['oldbalanceOrg'])\n",
    "print(out)"
   ]
  },
  {
   "cell_type": "code",
   "execution_count": 20,
   "id": "98c11db2-5f3a-47c3-a8bc-5b5890561e55",
   "metadata": {},
   "outputs": [
    {
     "name": "stdout",
     "output_type": "stream",
     "text": [
      "         oldbalanceOrg      amount  step  newbalanceDest  type  isFraud\n",
      "0            170136.00     9839.64     1            0.00     3        0\n",
      "1             21249.00     1864.28     1            0.00     3        0\n",
      "2               181.00      181.00     1            0.00     4        1\n",
      "3               181.00      181.00     1            0.00     1        1\n",
      "4             41554.00    11668.14     1            0.00     3        0\n",
      "...                ...         ...   ...             ...   ...      ...\n",
      "4447365      339682.13   339682.13   743       339682.13     1        1\n",
      "4447366     6311409.28  6311409.28   743            0.00     4        1\n",
      "4447367     6311409.28  6311409.28   743      6379898.11     1        1\n",
      "4447368      850002.52   850002.52   743            0.00     4        1\n",
      "4447369      850002.52   850002.52   743      7360101.63     1        1\n",
      "\n",
      "[4447370 rows x 6 columns]\n"
     ]
    }
   ],
   "source": [
    "outliers_indices = set()\n",
    "for feature in data.columns:\n",
    "    if feature != 'isFraud':  # Ignorer la colonne 'Class'\n",
    "        outliers_indices.update(detect_outliers(data[feature]))\n",
    "\n",
    "# Supprimer les lignes correspondantes aux outliers\n",
    "data_cleaned = data.drop(index=outliers_indices).reset_index(drop=True)\n",
    "\n",
    "# Combiner les données nettoyées où 'Class' est 1 avec les données où 'Class' est 0\n",
    "data_final = pd.concat([data_cleaned, fraud_data]).reset_index(drop=True)\n",
    "\n",
    "# Afficher les données finales\n",
    "print(data_final)"
   ]
  },
  {
   "cell_type": "code",
   "execution_count": 21,
   "id": "4b4bef64-0ac3-4e01-9db7-f2ed15978ff4",
   "metadata": {},
   "outputs": [
    {
     "data": {
      "text/html": [
       "<div>\n",
       "<style scoped>\n",
       "    .dataframe tbody tr th:only-of-type {\n",
       "        vertical-align: middle;\n",
       "    }\n",
       "\n",
       "    .dataframe tbody tr th {\n",
       "        vertical-align: top;\n",
       "    }\n",
       "\n",
       "    .dataframe thead th {\n",
       "        text-align: right;\n",
       "    }\n",
       "</style>\n",
       "<table border=\"1\" class=\"dataframe\">\n",
       "  <thead>\n",
       "    <tr style=\"text-align: right;\">\n",
       "      <th></th>\n",
       "      <th>oldbalanceOrg</th>\n",
       "      <th>amount</th>\n",
       "      <th>step</th>\n",
       "      <th>newbalanceDest</th>\n",
       "      <th>type</th>\n",
       "      <th>isFraud</th>\n",
       "    </tr>\n",
       "  </thead>\n",
       "  <tbody>\n",
       "    <tr>\n",
       "      <th>0</th>\n",
       "      <td>0.768792</td>\n",
       "      <td>-0.543926</td>\n",
       "      <td>-1.793</td>\n",
       "      <td>-0.604226</td>\n",
       "      <td>0.889922</td>\n",
       "      <td>0</td>\n",
       "    </tr>\n",
       "    <tr>\n",
       "      <th>1</th>\n",
       "      <td>-0.077163</td>\n",
       "      <td>-0.591785</td>\n",
       "      <td>-1.793</td>\n",
       "      <td>-0.604226</td>\n",
       "      <td>0.889922</td>\n",
       "      <td>0</td>\n",
       "    </tr>\n",
       "    <tr>\n",
       "      <th>2</th>\n",
       "      <td>-0.196868</td>\n",
       "      <td>-0.601886</td>\n",
       "      <td>-1.793</td>\n",
       "      <td>-0.604226</td>\n",
       "      <td>1.718034</td>\n",
       "      <td>1</td>\n",
       "    </tr>\n",
       "    <tr>\n",
       "      <th>3</th>\n",
       "      <td>-0.196868</td>\n",
       "      <td>-0.601886</td>\n",
       "      <td>-1.793</td>\n",
       "      <td>-0.604226</td>\n",
       "      <td>-0.766302</td>\n",
       "      <td>1</td>\n",
       "    </tr>\n",
       "    <tr>\n",
       "      <th>4</th>\n",
       "      <td>0.038208</td>\n",
       "      <td>-0.532954</td>\n",
       "      <td>-1.793</td>\n",
       "      <td>-0.604226</td>\n",
       "      <td>0.889922</td>\n",
       "      <td>0</td>\n",
       "    </tr>\n",
       "  </tbody>\n",
       "</table>\n",
       "</div>"
      ],
      "text/plain": [
       "   oldbalanceOrg    amount   step  newbalanceDest      type  isFraud\n",
       "0       0.768792 -0.543926 -1.793       -0.604226  0.889922        0\n",
       "1      -0.077163 -0.591785 -1.793       -0.604226  0.889922        0\n",
       "2      -0.196868 -0.601886 -1.793       -0.604226  1.718034        1\n",
       "3      -0.196868 -0.601886 -1.793       -0.604226 -0.766302        1\n",
       "4       0.038208 -0.532954 -1.793       -0.604226  0.889922        0"
      ]
     },
     "execution_count": 21,
     "metadata": {},
     "output_type": "execute_result"
    }
   ],
   "source": [
    "#Normalisation des données\n",
    "from sklearn.preprocessing import StandardScaler\n",
    "\n",
    "scaler = StandardScaler()\n",
    "data_final['oldbalanceOrg'] = scaler.fit_transform(data_final['oldbalanceOrg'].values.reshape(-1,1))\n",
    "data_final['amount'] = scaler.fit_transform(data_final['amount'].values.reshape(-1,1))\n",
    "data_final['step'] = scaler.fit_transform(data_final['step'].values.reshape(-1,1))\n",
    "data_final['newbalanceDest'] = scaler.fit_transform(data_final['newbalanceDest'].values.reshape(-1,1))\n",
    "data_final['type'] = scaler.fit_transform(data_final['type'].values.reshape(-1,1))\n",
    "\n",
    "data_final.head()"
   ]
  },
  {
   "cell_type": "code",
   "execution_count": 22,
   "id": "73dd6054-954b-4b0b-a6d2-d33b49cd1062",
   "metadata": {},
   "outputs": [
    {
     "data": {
      "image/png": "[encoded data removed]",
      "text/plain": [
       "<Figure size 800x800 with 1 Axes>"
      ]
     },
     "metadata": {},
     "output_type": "display_data"
    }
   ],
   "source": [
    "# Calculer le nombre de lignes pour chaque classe\n",
    "class_counts = data_final['isFraud'].value_counts()\n",
    "\n",
    "# Calculer les pourcentages\n",
    "class_percentages = class_counts / class_counts.sum() * 100\n",
    "\n",
    "# Créer le diagramme circulaire\n",
    "labels = ['Class 0', 'Class 1']\n",
    "colors = ['blue', 'orange']\n",
    "plt.figure(figsize=(8, 8))\n",
    "plt.pie(class_percentages, labels=labels, colors=colors, autopct='%.4f%%', startangle=140)\n",
    "plt.title('Pourcentage de lignes avec Class 0 et Class 1')\n",
    "plt.show()"
   ]
  },
  {
   "cell_type": "code",
   "execution_count": 23,
   "id": "910d7665-113e-4b8e-a80f-04dbcc5c836d",
   "metadata": {},
   "outputs": [
    {
     "name": "stdout",
     "output_type": "stream",
     "text": [
      "isFraud\n",
      "0    4436651\n",
      "1      10719\n",
      "Name: count, dtype: int64\n"
     ]
    }
   ],
   "source": [
    "print(class_counts)"
   ]
  },
  {
   "cell_type": "code",
   "execution_count": 24,
   "id": "a1efd744-50af-4930-957d-c8ea467f35bd",
   "metadata": {},
   "outputs": [
    {
     "name": "stdout",
     "output_type": "stream",
     "text": [
      "Requirement already satisfied: seaborn in c:\\users\\fraij\\appdata\\local\\programs\\python\\python39\\lib\\site-packages (0.13.2)Note: you may need to restart the kernel to use updated packages.\n"
     ]
    },
    {
     "name": "stderr",
     "output_type": "stream",
     "text": [
      "\n",
      "[notice] A new release of pip is available: 24.0 -> 24.2\n",
      "[notice] To update, run: python.exe -m pip install --upgrade pip\n"
     ]
    },
    {
     "name": "stdout",
     "output_type": "stream",
     "text": [
      "\n",
      "Requirement already satisfied: numpy!=1.24.0,>=1.20 in c:\\users\\fraij\\appdata\\local\\programs\\python\\python39\\lib\\site-packages (from seaborn) (1.26.4)\n",
      "Requirement already satisfied: pandas>=1.2 in c:\\users\\fraij\\appdata\\local\\programs\\python\\python39\\lib\\site-packages (from seaborn) (2.2.2)\n",
      "Requirement already satisfied: matplotlib!=3.6.1,>=3.4 in c:\\users\\fraij\\appdata\\local\\programs\\python\\python39\\lib\\site-packages (from seaborn) (3.8.4)\n",
      "Requirement already satisfied: contourpy>=1.0.1 in c:\\users\\fraij\\appdata\\local\\programs\\python\\python39\\lib\\site-packages (from matplotlib!=3.6.1,>=3.4->seaborn) (1.2.1)\n",
      "Requirement already satisfied: cycler>=0.10 in c:\\users\\fraij\\appdata\\local\\programs\\python\\python39\\lib\\site-packages (from matplotlib!=3.6.1,>=3.4->seaborn) (0.12.1)\n",
      "Requirement already satisfied: fonttools>=4.22.0 in c:\\users\\fraij\\appdata\\local\\programs\\python\\python39\\lib\\site-packages (from matplotlib!=3.6.1,>=3.4->seaborn) (4.51.0)\n",
      "Requirement already satisfied: kiwisolver>=1.3.1 in c:\\users\\fraij\\appdata\\local\\programs\\python\\python39\\lib\\site-packages (from matplotlib!=3.6.1,>=3.4->seaborn) (1.4.5)\n",
      "Requirement already satisfied: packaging>=20.0 in c:\\users\\fraij\\appdata\\local\\programs\\python\\python39\\lib\\site-packages (from matplotlib!=3.6.1,>=3.4->seaborn) (24.0)\n",
      "Requirement already satisfied: pillow>=8 in c:\\users\\fraij\\appdata\\local\\programs\\python\\python39\\lib\\site-packages (from matplotlib!=3.6.1,>=3.4->seaborn) (10.3.0)\n",
      "Requirement already satisfied: pyparsing>=2.3.1 in c:\\users\\fraij\\appdata\\local\\programs\\python\\python39\\lib\\site-packages (from matplotlib!=3.6.1,>=3.4->seaborn) (3.1.2)\n",
      "Requirement already satisfied: python-dateutil>=2.7 in c:\\users\\fraij\\appdata\\local\\programs\\python\\python39\\lib\\site-packages (from matplotlib!=3.6.1,>=3.4->seaborn) (2.9.0.post0)\n",
      "Requirement already satisfied: importlib-resources>=3.2.0 in c:\\users\\fraij\\appdata\\local\\programs\\python\\python39\\lib\\site-packages (from matplotlib!=3.6.1,>=3.4->seaborn) (6.4.0)\n",
      "Requirement already satisfied: pytz>=2020.1 in c:\\users\\fraij\\appdata\\local\\programs\\python\\python39\\lib\\site-packages (from pandas>=1.2->seaborn) (2024.1)\n",
      "Requirement already satisfied: tzdata>=2022.7 in c:\\users\\fraij\\appdata\\local\\programs\\python\\python39\\lib\\site-packages (from pandas>=1.2->seaborn) (2024.1)\n",
      "Requirement already satisfied: zipp>=3.1.0 in c:\\users\\fraij\\appdata\\local\\programs\\python\\python39\\lib\\site-packages (from importlib-resources>=3.2.0->matplotlib!=3.6.1,>=3.4->seaborn) (3.18.1)\n",
      "Requirement already satisfied: six>=1.5 in c:\\users\\fraij\\appdata\\local\\programs\\python\\python39\\lib\\site-packages (from python-dateutil>=2.7->matplotlib!=3.6.1,>=3.4->seaborn) (1.16.0)\n"
     ]
    }
   ],
   "source": [
    "pip install seaborn"
   ]
  },
  {
   "cell_type": "code",
   "execution_count": 25,
   "id": "a36649b7-1a6f-431f-9064-cddba7e68785",
   "metadata": {},
   "outputs": [],
   "source": [
    "# Extraction de la dataset finale après traitement des données\n",
    "\n",
    "data_final.to_csv(\"Final_Data.csv\", index=False)"
   ]
  },
  {
   "cell_type": "code",
   "execution_count": null,
   "id": "086b2069-d0ac-4053-b0fa-cb66af5c9582",
   "metadata": {},
   "outputs": [],
   "source": [
    "#"
   ]
  }
 ],
 "metadata": {
  "kernelspec": {
   "display_name": "Python 3 (ipykernel)",
   "language": "python",
   "name": "python3"
  },
  "language_info": {
   "codemirror_mode": {
    "name": "ipython",
    "version": 3
   },
   "file_extension": ".py",
   "mimetype": "text/x-python",
   "name": "python",
   "nbconvert_exporter": "python",
   "pygments_lexer": "ipython3",
   "version": "3.9.4"
  }
 },
 "nbformat": 4,
 "nbformat_minor": 5
}
